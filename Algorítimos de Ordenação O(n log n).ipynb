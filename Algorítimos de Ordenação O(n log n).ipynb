{
 "cells": [
  {
   "cell_type": "markdown",
   "metadata": {},
   "source": [
    "# Algoritmos de Ordenação O (n log n)"
   ]
  },
  {
   "cell_type": "markdown",
   "metadata": {},
   "source": [
    "### Importando bibliotecas"
   ]
  },
  {
   "cell_type": "code",
   "execution_count": 1,
   "metadata": {},
   "outputs": [],
   "source": [
    "import time \n",
    "import matplotlib.pyplot as plt\n",
    "import numpy as np"
   ]
  },
  {
   "cell_type": "markdown",
   "metadata": {},
   "source": [
    "### Definindo vetores"
   ]
  },
  {
   "cell_type": "code",
   "execution_count": 2,
   "metadata": {},
   "outputs": [],
   "source": [
    "# TAMANHO VETOR 5K - 20K\n",
    "# ELEMENTOS DE 0 À 1M\n",
    "\n",
    "\n",
    "vetorzin6 = np.random.randint(1000000, size=(20000))\n",
    "vetorzin5 = np.random.randint(1000000, size=(17500))\n",
    "vetorzin4 = np.random.randint(1000000, size=(15000))\n",
    "vetorzin3 = np.random.randint(1000000, size=(12500))\n",
    "vetorzin2 = np.random.randint(1000000, size=(10000))\n",
    "vetorzin1 = np.random.randint(1000000, size=(5000))\n",
    "\n",
    "# TAMANHO VETOR 100K - 10M\n",
    "# ELEMENTOS DE 0 À 10M\n",
    "\n",
    "vetorzao6 = np.random.randint(10000000, size=(10000000))\n",
    "vetorzao5 = np.random.randint(10000000, size=(5000000))\n",
    "vetorzao4 = np.random.randint(10000000, size=(2000000))\n",
    "vetorzao3 = np.random.randint(10000000, size=(1000000))\n",
    "vetorzao2 = np.random.randint(10000000, size=(500000))\n",
    "vetorzao1 = np.random.randint(10000000, size=(100000))"
   ]
  },
  {
   "cell_type": "markdown",
   "metadata": {},
   "source": [
    "## Algoritmos de Ordenação O (n²)"
   ]
  },
  {
   "cell_type": "markdown",
   "metadata": {},
   "source": [
    "### Selection Sort"
   ]
  },
  {
   "cell_type": "code",
   "execution_count": 3,
   "metadata": {},
   "outputs": [],
   "source": [
    "def selection_sort(vector):\n",
    "\n",
    "    for i in range(0, len(vector) - 1):\n",
    "        less = i;\n",
    "        for j in range(i+1, len(vector)):\n",
    "            if vector[j] < vector[less]:\n",
    "                less = j\n",
    "            \n",
    "        vector[i],vector[less] = vector[less],vector[i]    \n",
    "    return vector"
   ]
  },
  {
   "cell_type": "markdown",
   "metadata": {},
   "source": [
    "#### Chamando o selection para vetores de tamanho 5k até 20k e calculando o tempo de execução"
   ]
  },
  {
   "cell_type": "code",
   "execution_count": null,
   "metadata": {},
   "outputs": [],
   "source": [
    "#VETOR 20K\n",
    "start6_selection = time.time()\n",
    "selection_sort(vetorzin6)\n",
    "end6_selection = time.time()\n",
    "\n",
    "#VETOR 17,5K\n",
    "start5_selection = time.time()\n",
    "selection_sort(vetorzin5)\n",
    "end5_selection = time.time()\n",
    "\n",
    "#VETOR 15K\n",
    "start4_selection = time.time()\n",
    "selection_sort(vetorzin4)\n",
    "end4_selection = time.time()\n",
    "\n",
    "#VETOR 12,5K\n",
    "start3_selection = time.time()\n",
    "selection_sort(vetorzin3)\n",
    "end3_selection = time.time()\n",
    "\n",
    "#VETOR 10K\n",
    "start2_selection = time.time()\n",
    "selection_sort(vetorzin2)\n",
    "end2_selection = time.time()\n",
    "\n",
    "#VETOR 5K\n",
    "start1_selection = time.time()\n",
    "selection_sort(vetorzin1)\n",
    "end1_selection = time.time()"
   ]
  },
  {
   "cell_type": "markdown",
   "metadata": {},
   "source": [
    "#### Colocando os valores de tempo encontrados em um vetor"
   ]
  },
  {
   "cell_type": "code",
   "execution_count": null,
   "metadata": {},
   "outputs": [],
   "source": [
    "s6 = end6_selection - start6_selection\n",
    "s5 = end5_selection - start5_selection\n",
    "s4 = end4_selection - start4_selection\n",
    "s3 = end3_selection - start3_selection\n",
    "s2 = end2_selection - start2_selection\n",
    "s1 = end1_selection - start1_selection\n",
    "\n",
    "selection = [s1,s2,s3,s4,s5,s6]\n",
    "plt.plot(selection, linestyle='-', marker='o')"
   ]
  },
  {
   "cell_type": "markdown",
   "metadata": {},
   "source": [
    "### Bubble Sort"
   ]
  },
  {
   "cell_type": "code",
   "execution_count": null,
   "metadata": {},
   "outputs": [],
   "source": [
    "def bubble_sort(vector):\n",
    "    for i in range(0, len(vector) - 1):\n",
    "        for j in range(0, len(vector) - 1):\n",
    "            if vector[j] > vector[j+1]:\n",
    "                vector[j], vector[j+1] = vector[j+1], vector[j]\n",
    "        \n",
    "    return vector"
   ]
  },
  {
   "cell_type": "markdown",
   "metadata": {},
   "source": [
    "#### Chamando o bubble para vetores de tamanho 5k até 20k e calculando o tempo de execução"
   ]
  },
  {
   "cell_type": "code",
   "execution_count": null,
   "metadata": {},
   "outputs": [],
   "source": [
    "#VETOR 20K\n",
    "start6_bubble = time.time()\n",
    "bubble_sort(vetorzin6)\n",
    "end6_bubble = time.time()\n",
    "\n",
    "#VETOR 17,5K\n",
    "start5_bubble = time.time()\n",
    "bubble_sort(vetorzin5)\n",
    "end5_bubble = time.time()\n",
    "\n",
    "#VETOR 15K\n",
    "start4_bubble = time.time()\n",
    "bubble_sort(vetorzin4)\n",
    "end4_bubble = time.time()\n",
    "\n",
    "#VETOR 12,5K\n",
    "start3_bubble = time.time()\n",
    "bubble_sort(vetorzin3)\n",
    "end3_bubble = time.time()\n",
    "\n",
    "#VETOR 10K\n",
    "start2_bubble = time.time()\n",
    "bubble_sort(vetorzin2)\n",
    "end2_bubble = time.time()\n",
    "\n",
    "#VETOR 5K\n",
    "start1_bubble = time.time()\n",
    "bubble_sort(vetorzin1)\n",
    "end1_bubble = time.time()\n",
    "\n"
   ]
  },
  {
   "cell_type": "markdown",
   "metadata": {},
   "source": [
    "#### Colocando os valores de tempo encontrados em um vetor"
   ]
  },
  {
   "cell_type": "code",
   "execution_count": null,
   "metadata": {},
   "outputs": [],
   "source": [
    "b6 = end6_bubble - start6_bubble\n",
    "b5 = end5_bubble - start5_bubble\n",
    "b4 = end4_bubble - start4_bubble\n",
    "b3 = end3_bubble - start3_bubble\n",
    "b2 = end2_bubble - start2_bubble\n",
    "b1 = end1_bubble - start1_bubble\n",
    "\n",
    "bubble = [b1,b2,b3,b4,b5,b6]\n",
    "plt.plot(bubble, linestyle='-', marker='o')"
   ]
  },
  {
   "cell_type": "markdown",
   "metadata": {},
   "source": [
    "## Algoritmos de Ordenação O (n log n)"
   ]
  },
  {
   "cell_type": "markdown",
   "metadata": {},
   "source": [
    "### Quick Sort"
   ]
  },
  {
   "cell_type": "markdown",
   "metadata": {},
   "source": [
    "#### Características:\n",
    "\n",
    "* Instável \n",
    "* Operações Locais (in-place)\n",
    "* Dividir e Conquistar \n",
    "* O(n log n)\n",
    "\n",
    "#### Definição e Lógica:\n",
    "\n",
    "Usando a abordegam de dividir e conquistar o Quick Sort usa da partição como lógica principal do algorítimo. Uma das característica do Quick Sort é a instabilidade que não pode ser ajustada com mudanças no código.\n",
    "\n",
    "A estratégia consiste em rearranjar as chaves de modo que as chaves menores fiquem antes das chaves maiores. Em seguida o quicksort ordena as duas sublistas de chaves menores e maiores recursivamente até que a lista completa se encontre ordenada. Os passos são:\n",
    "\n",
    "1. Escolher pivô;\n",
    "\n",
    "2. Particionar: rearranjar a lista de forma que todos os elementos anteriores ao pivô sejam menores que ele, e todos os elementos posteriores ao pivô sejam maiores que ele. Ao fim do processo o pivô estará em sua posição final e haverá duas sublistas não ordenadas;\n",
    "\n",
    "3. Recursivamente ordenar a sublista dos elementos menores e a sublista dos elementos maiores;\n",
    "\n",
    "4. O caso base da recursão são as listas de tamanho zero ou um, que estão sempre ordenadas. O processo é finito, pois a cada iteração pelo menos um elemento é posto em sua posição final e não será mais manipulado na iteração seguinte.\n",
    "\n",
    "A escolha do pivô e os passos do Particionar podem ser feitos de diferentes formas e a escolha de uma implementação específica afeta fortemente a performance do algoritmo. A escolha de um pivo ruim pode implicar a mudança de complexidade do algoritmo de O(n log n) para O(n²), por isso escolhemos o Quick Sort usando a mediana de três que consiste em achar qual o melhor pivo entre o primeiro o último e o índice do méio, sendo ele, o pivo, a mediana entre eles, fazendo assim com que mesmo que o vetor esteja ordenado o Quick Sort não caia no pior caso O(n²).\n",
    "\n",
    "\n"
   ]
  },
  {
   "cell_type": "markdown",
   "metadata": {},
   "source": [
    "#### Algoritmo Quick Sort Mediana de Três"
   ]
  },
  {
   "cell_type": "code",
   "execution_count": null,
   "metadata": {},
   "outputs": [],
   "source": [
    "def quick_sort(array, begin,end):\n",
    "    if begin < end:\n",
    "        new_begin_end = particion(array, begin, end)\n",
    "        \n",
    "        #Chamada recursiva\n",
    "        quick_sort(array, begin, new_begin_end - 1) # Quick Sort para subarray de zero a pivo - 1\n",
    "        quick_sort(array, new_begin_end + 1, end) # Quick Sort para subarray de pivo + 1 a fim \n",
    "\n",
    "        \n",
    "def particion(array, begin, end) -> (int):\n",
    "    \n",
    "    # Observe que os nomes em português são valores e os inglês são índices\n",
    "    middle = (begin + end) // 2\n",
    "    inicio = array[begin]\n",
    "    meio = array[middle]\n",
    "    final = array[end]\n",
    "    \n",
    "    # Comparação entre entre inicio, meio e fim para achar a mediana\n",
    "    if inicio < meio:\n",
    "        if meio < final:\n",
    "            mediana_index = middle\n",
    "        else:\n",
    "            if inicio < final:\n",
    "                mediana_index = end\n",
    "            else:\n",
    "                mediana_index = begin\n",
    "    else:\n",
    "        if final < meio:\n",
    "            mediana_index = middle\n",
    "        else:\n",
    "            if final < inicio:\n",
    "                mediana_index = end\n",
    "            else: \n",
    "                mediana_index = begin\n",
    "                \n",
    "    # Swap\n",
    "    array[mediana_index], array[end] = array[end], array[mediana_index]\n",
    "    \n",
    "    pivo = array[end]\n",
    "    i = begin - 1\n",
    "    \n",
    "    for j in range(begin, end+1):\n",
    "        if array[j] <= pivo: # Fonte da instabilidade\n",
    "            i += 1\n",
    "            array[i], array[j] = array[j], array[i]\n",
    "                     \n",
    "    return i \n"
   ]
  },
  {
   "cell_type": "markdown",
   "metadata": {},
   "source": [
    "#### Chamando o quick para vetores de tamanho 5k até 20k e calculando o tempo de execução"
   ]
  },
  {
   "cell_type": "code",
   "execution_count": null,
   "metadata": {
    "scrolled": true
   },
   "outputs": [],
   "source": [
    "#VETOR 20K\n",
    "start6_quick = time.time()\n",
    "quick_sort(vetorzin6, 0, len(vetorzin6) - 1)\n",
    "end6_quick = time.time()\n",
    "\n",
    "#VETOR 17,5K\n",
    "start5_quick = time.time()\n",
    "quick_sort(vetorzin5, 0, len(vetorzin5) - 1)\n",
    "end5_quick = time.time()\n",
    "\n",
    "#VETOR 15K\n",
    "start4_quick = time.time()\n",
    "quick_sort(vetorzin4, 0, len(vetorzin4) - 1)\n",
    "end4_quick = time.time()\n",
    "\n",
    "#VETOR 12,5K\n",
    "start3_quick = time.time()\n",
    "quick_sort(vetorzin3, 0, len(vetorzin3) - 1)\n",
    "end3_quick = time.time()\n",
    "\n",
    "#VETOR 10K\n",
    "start2_quick = time.time()\n",
    "quick_sort(vetorzin2, 0, len(vetorzin2) - 1)\n",
    "end2_quick = time.time()\n",
    "\n",
    "#VETOR 5K\n",
    "start1_quick = time.time()\n",
    "quick_sort(vetorzin1, 0, len(vetorzin1) - 1)\n",
    "end1_quick = time.time()\n"
   ]
  },
  {
   "cell_type": "markdown",
   "metadata": {},
   "source": [
    "#### Colocando os valores de tempo encontrados para vetores de tamanho 5k até 20k em um vetor\n"
   ]
  },
  {
   "cell_type": "code",
   "execution_count": null,
   "metadata": {},
   "outputs": [],
   "source": [
    "q6 = end6_quick - start6_quick\n",
    "q5 = end5_quick - start5_quick\n",
    "q4 = end4_quick - start4_quick\n",
    "q3 = end3_quick - start3_quick\n",
    "q2 = end2_quick - start2_quick\n",
    "q1 = end1_quick - start1_quick\n",
    "\n",
    "quick_vetorzin = [q1,q2,q3,q4,q5,q6]\n",
    "\n",
    "plt.plot(quick_vetorzin, linestyle='-', marker='o')"
   ]
  },
  {
   "cell_type": "markdown",
   "metadata": {},
   "source": [
    "#### Chamando o quick para vetores de tamanho 100k até 10M e calculando o tempo de execução"
   ]
  },
  {
   "cell_type": "code",
   "execution_count": null,
   "metadata": {},
   "outputs": [],
   "source": [
    "#VETOR 10M\n",
    "start12_quick = time.time()\n",
    "quick_sort(vetorzao6, 0, len(vetorzao6) - 1)\n",
    "end12_quick = time.time()\n",
    "\n",
    "#VETOR 5M\n",
    "start11_quick = time.time()\n",
    "quick_sort(vetorzao5, 0, len(vetorzao5) - 1)\n",
    "end11_quick = time.time()\n",
    "\n",
    "#VETOR 2M\n",
    "start10_quick = time.time()\n",
    "quick_sort(vetorzao4, 0, len(vetorzao4) - 1)\n",
    "end10_quick = time.time()\n",
    "\n",
    "#VETOR 1M\n",
    "start9_quick = time.time()\n",
    "quick_sort(vetorzao3, 0, len(vetorzao3) - 1)\n",
    "end9_quick = time.time()\n",
    "\n",
    "#VETOR 500K\n",
    "start8_quick = time.time()\n",
    "quick_sort(vetorzao2, 0, len(vetorzao2) - 1)\n",
    "end8_quick = time.time()\n",
    "\n",
    "#VETOR 100K\n",
    "start7_quick = time.time()\n",
    "quick_sort(vetorzao1, 0, len(vetorzao1) - 1)\n",
    "end7_quick = time.time()\n"
   ]
  },
  {
   "cell_type": "markdown",
   "metadata": {},
   "source": [
    "#### Colocando os valores de tempo encontrados para vetores de tamanho 100k até 10M em um vetor\n"
   ]
  },
  {
   "cell_type": "code",
   "execution_count": null,
   "metadata": {},
   "outputs": [],
   "source": [
    "q7 = end7_quick - start7_quick\n",
    "q8 = end8_quick - start8_quick\n",
    "q9 = end9_quick - start9_quick\n",
    "q10 = end10_quick - start10_quick\n",
    "q11 = end11_quick - start11_quick\n",
    "q12 = end12_quick - start12_quick\n",
    "\n",
    "quick_vetorzao = [q7,q8,q9,q10,q11,q12]\n",
    "\n",
    "plt.plot(quick_vetorzao, linestyle='-', marker='o')"
   ]
  },
  {
   "cell_type": "markdown",
   "metadata": {},
   "source": [
    "#### Integrando os 2 vetores"
   ]
  },
  {
   "cell_type": "code",
   "execution_count": null,
   "metadata": {},
   "outputs": [],
   "source": [
    "quick_total = [q1,q2,q3,q4,q5,q6,q7,q8,q9,q10,q11,q12]\n",
    "\n",
    "plt.plot(quick_total, linestyle='-', marker='o')"
   ]
  },
  {
   "cell_type": "markdown",
   "metadata": {},
   "source": [
    "### Bucket Sort"
   ]
  },
  {
   "cell_type": "markdown",
   "metadata": {},
   "source": [
    "#### Características:\n",
    "\n",
    "* Estavel\n",
    "* Dividir e Conquistar\n",
    "* O(n log n)\n",
    "\n",
    "\n",
    "#### Definição e Lógica:\n",
    "\n",
    "Bucket sort, é um algoritmo de ordenação que funciona dividindo um vetor em um número finito de baldes. Cada balde é então ordenado individualmente, seja usando um algoritmo de ordenação diferente, ou usando o algoritmo bucket sort recursivamente, algorítimo tem complexidade linear O(n log n).\n",
    "\n",
    "A estratégia consiste em dividir o array em vários subgrupos chamados de baldes, onde só elementos do mesmo \"tipo\" estão nesse balde. Após essa divisão é aplicado outro método de ordenação para cada um dos baldes e os baldes se juntam novamente formando um vetor ordenado.\n",
    "\n",
    "Bucket sort funciona do seguinte modo:\n",
    "\n",
    "1. Inicialize um vetor de \"baldes\", inicialmente vazios.\n",
    "2. Vá para o vetor original, incluindo cada elemento em um balde.\n",
    "3. Ordene todos os baldes não vazios.\n",
    "4. Coloque os elementos dos baldes que não estão vazios no vetor original.\n"
   ]
  },
  {
   "cell_type": "markdown",
   "metadata": {},
   "source": [
    "#### Algoritmo Bucket Sort utilizando o Insertion Sort"
   ]
  },
  {
   "cell_type": "code",
   "execution_count": null,
   "metadata": {},
   "outputs": [],
   "source": [
    "def bucket_sort(alist):\n",
    "    largest = max(alist)\n",
    "    length = len(alist)\n",
    "    size = largest/length\n",
    " \n",
    "    buckets = [[] for _ in range(length)]\n",
    "    for i in range(length):\n",
    "        j = int(alist[i]/size)\n",
    "        if j != length:\n",
    "            buckets[j].append(alist[i])\n",
    "        else:\n",
    "            buckets[length - 1].append(alist[i])\n",
    " \n",
    "    for i in range(length):\n",
    "        insertion_sort(buckets[i])\n",
    " \n",
    "    result = []\n",
    "    for i in range(length):\n",
    "        result = result + buckets[i]\n",
    " \n",
    "    return result\n",
    " \n",
    "def insertion_sort(alist):\n",
    "    for i in range(1, len(alist)):\n",
    "        temp = alist[i]\n",
    "        j = i - 1\n",
    "        while (j >= 0 and temp < alist[j]):\n",
    "            alist[j + 1] = alist[j]\n",
    "            j = j - 1\n",
    "        alist[j + 1] = temp\n"
   ]
  },
  {
   "cell_type": "markdown",
   "metadata": {},
   "source": [
    "#### Chamando o bucket para vetores de tamanho 5k até 20k e calculando o tempo de execução"
   ]
  },
  {
   "cell_type": "code",
   "execution_count": null,
   "metadata": {},
   "outputs": [],
   "source": [
    "#VETOR 20K\n",
    "start6_bucket = time.time()\n",
    "bucket_sort(vetorzin6)\n",
    "end6_bucket = time.time()\n",
    "\n",
    "#VETOR 17,5K\n",
    "start5_bucket = time.time()\n",
    "bucket_sort(vetorzin5)\n",
    "end5_bucket = time.time()\n",
    "\n",
    "#VETOR 15K\n",
    "start4_bucket = time.time()\n",
    "bucket_sort(vetorzin4)\n",
    "end4_bucket = time.time()\n",
    "\n",
    "#VETOR 12,5K\n",
    "start3_bucket = time.time()\n",
    "bucket_sort(vetorzin3)\n",
    "end3_bucket = time.time()\n",
    "\n",
    "#VETOR 10K\n",
    "start2_bucket = time.time()\n",
    "bucket_sort(vetorzin2)\n",
    "end2_bucket = time.time()\n",
    "\n",
    "#VETOR 5K\n",
    "start1_bucket = time.time()\n",
    "bucket_sort(vetorzin1)\n",
    "end1_bucket = time.time()\n"
   ]
  },
  {
   "cell_type": "markdown",
   "metadata": {},
   "source": [
    "#### Colocando os valores de tempo encontrados para vetores de tamanho 5k até 20k em um vetor\n"
   ]
  },
  {
   "cell_type": "code",
   "execution_count": null,
   "metadata": {},
   "outputs": [],
   "source": [
    "bck6 = end6_bucket - start6_bucket\n",
    "bck5 = end5_bucket - start5_bucket\n",
    "bck4 = end4_bucket - start4_bucket\n",
    "bck3 = end3_bucket - start3_bucket\n",
    "bck2 = end2_bucket - start2_bucket\n",
    "bck1 = end1_bucket - start1_bucket\n",
    "\n",
    "bucket_vetorzin = [bck1,bck2,bck3,bck4,bck5,bck6]\n",
    "\n",
    "plt.plot(bucket_vetorzin, linestyle='-', marker='o')"
   ]
  },
  {
   "cell_type": "markdown",
   "metadata": {},
   "source": [
    "#### Chamando o bucket para vetores de tamanho 100k até 10M e calculando o tempo de execução"
   ]
  },
  {
   "cell_type": "code",
   "execution_count": null,
   "metadata": {},
   "outputs": [],
   "source": [
    "#VETOR 10M\n",
    "start12_bucket = time.time()\n",
    "bucket_sort(vetorzao6)\n",
    "end12_bucket = time.time()\n",
    "\n",
    "#VETOR 5M\n",
    "start11_bucket = time.time()\n",
    "bucket_sort(vetorzao5)\n",
    "end11_bucket = time.time()\n",
    "\n",
    "#VETOR 2M\n",
    "start10_bucket = time.time()\n",
    "bucket_sort(vetorzao4)\n",
    "end10_bucket = time.time()\n",
    "\n",
    "#VETOR 1M\n",
    "start9_bucket = time.time()\n",
    "bucket_sort(vetorzao3)\n",
    "end9_bucket = time.time()\n",
    "\n",
    "#VETOR 500K\n",
    "start8_bucket = time.time()\n",
    "bucket_sort(vetorzao2)\n",
    "end8_bucket = time.time()\n",
    "\n",
    "#VETOR 100K\n",
    "start7_bucket = time.time()\n",
    "bucket_sort(vetorzao1)\n",
    "end7_bucket = time.time()"
   ]
  },
  {
   "cell_type": "markdown",
   "metadata": {},
   "source": [
    "#### Colocando os valores de tempo encontrados para vetores de tamanho 100k até 10M em um vetor\n"
   ]
  },
  {
   "cell_type": "code",
   "execution_count": null,
   "metadata": {},
   "outputs": [],
   "source": [
    "bck7 = end7_bucket - start7_bucket\n",
    "bck8 = end8_bucket - start8_bucket\n",
    "bck9 = end9_bucket - start9_bucket\n",
    "bck10 = end10_bucket - start10_bucket\n",
    "bck11 = end11_bucket - start11_bucket\n",
    "bck12 = end12_bucket - start12_bucket\n",
    "\n",
    "bucket_vetorzao = [bck7,bck8,bck9,bck10,bck11,bck12]\n",
    "\n",
    "plt.plot(bucket_vetorzao, linestyle='-', marker='o')"
   ]
  },
  {
   "cell_type": "markdown",
   "metadata": {},
   "source": [
    "#### Integrando os 2 vetores"
   ]
  },
  {
   "cell_type": "code",
   "execution_count": null,
   "metadata": {},
   "outputs": [],
   "source": [
    "bucket_total = [bck1,bck2,bck3,bck4,bck5,bck6,bck7,bck8,bck9,bck10,bck11,bck12]\n",
    "\n",
    "plt.plot(bucket_total, linestyle='-', marker='o')"
   ]
  },
  {
   "cell_type": "markdown",
   "metadata": {},
   "source": [
    "### Merge Sort"
   ]
  },
  {
   "cell_type": "markdown",
   "metadata": {},
   "source": [
    "#### Características:\n",
    "\n",
    "* Características:\n",
    "* Dividir e conquistar\n",
    "* Não local\n",
    "* O(n log n)\n",
    "* Alto consumo de memória\n",
    "\n",
    "#### Definição e Lógica:\n",
    "\n",
    "A ideia é dividir a lista não ordenada em grupos menores até que haja apenas um elemento em um grupo. Em seguida, agrupar dois elementos na ordem correta e gradualmente criar uma lista do tamanho original. Toda vez que a junção acontece, os elementos nos grupos devem ser comparados um por um e combinados em uma única lista em ordem. Esse processo continua até que todos os elementos sejam mesclados e ordenados. Observe que, quando o reagrupamento acontece, a ordem deve sempre ser mantida.\n"
   ]
  },
  {
   "cell_type": "markdown",
   "metadata": {},
   "source": [
    "#### Algoritmo Merge Sort"
   ]
  },
  {
   "cell_type": "code",
   "execution_count": null,
   "metadata": {},
   "outputs": [],
   "source": [
    "def merge_sort(vector):\n",
    "\n",
    "    if len(vector)>1:\n",
    "        mid = len(vector)//2\n",
    "        left_half = vector[:mid]\n",
    "        right_half = vector[mid:]\n",
    "\n",
    "        merge_sort(left_half)\n",
    "        merge_sort(right_half)\n",
    "\n",
    "        i=0\n",
    "        j=0\n",
    "        k=0\n",
    "\n",
    "        while i < len(left_half) and j < len(right_half):\n",
    "            if left_half[i] < right_half[j]:\n",
    "                vector[k]=left_half[i]\n",
    "                i=i+1\n",
    "            else:\n",
    "                vector[k]=right_half[j]\n",
    "                j=j+1\n",
    "            k=k+1\n",
    "\n",
    "        while i < len(left_half):\n",
    "            vector[k]=left_half[i]\n",
    "            i=i+1\n",
    "            k=k+1\n",
    "\n",
    "        while j < len(right_half):\n",
    "            vector[k]=right_half[j]\n",
    "            j=j+1\n",
    "            k=k+1\n"
   ]
  },
  {
   "cell_type": "markdown",
   "metadata": {},
   "source": [
    "#### Chamando o merge para vetores de tamanho 5k até 20k e calculando o tempo de execução"
   ]
  },
  {
   "cell_type": "code",
   "execution_count": null,
   "metadata": {},
   "outputs": [],
   "source": [
    "#VETOR 20K\n",
    "start6_merge = time.time()\n",
    "merge_sort(vetorzin6)\n",
    "start6_merge = time.time()\n",
    "\n",
    "#VETOR 17,5K\n",
    "start5_merge = time.time()\n",
    "merge_sort(vetorzin5)\n",
    "start5_merge = time.time()\n",
    "\n",
    "#VETOR 15K\n",
    "start4_merge = time.time()\n",
    "merge_sort(vetorzin4)\n",
    "start4_merge = time.time()\n",
    "\n",
    "#VETOR 12,5K\n",
    "start3_merge = time.time()\n",
    "merge_sort(vetorzin3)\n",
    "start3_merge = time.time()\n",
    "\n",
    "#VETOR 10K\n",
    "start2_merge = time.time()\n",
    "merge_sort(vetorzin2)\n",
    "start2_merge = time.time()\n",
    "\n",
    "#VETOR 5K\n",
    "start1_merge = time.time()\n",
    "merge_sort(vetorzin1)\n",
    "start1_merge = time.time()\n",
    "\n"
   ]
  },
  {
   "cell_type": "markdown",
   "metadata": {},
   "source": [
    "#### Colocando os valores de tempo encontrados para vetores de tamanho 5k até 20k em um vetor\n"
   ]
  },
  {
   "cell_type": "code",
   "execution_count": null,
   "metadata": {},
   "outputs": [],
   "source": [
    "m6 = end6_merge - start6_merge\n",
    "m5 = end5_merge - start5_merge\n",
    "m4 = end4_merge - start4_merge\n",
    "m3 = end3_merge - start3_merge\n",
    "m2 = end2_merge - start2_merge\n",
    "m1 = end1_merge - start1_merge\n",
    "\n",
    "merge_vetorzin = [m1,m2,m3,m4,m5,m6]\n",
    "\n",
    "plt.plot(merge_vetorzin, linestyle='-', marker='o')"
   ]
  },
  {
   "cell_type": "markdown",
   "metadata": {},
   "source": [
    "#### Chamando o merge para vetores de tamanho 100k até 10M e calculando o tempo de execução"
   ]
  },
  {
   "cell_type": "code",
   "execution_count": null,
   "metadata": {},
   "outputs": [],
   "source": [
    "#VETOR 10M\n",
    "start12_merge = time.time()\n",
    "merge_sort(vetorzao6)\n",
    "start12_merge = time.time()\n",
    "\n",
    "#VETOR 5M\n",
    "start11_merge = time.time()\n",
    "merge_sort(vetorzao5)\n",
    "start11_merge = time.time()\n",
    "\n",
    "#VETOR 2M\n",
    "start10_merge = time.time()\n",
    "merge_sort(vetorzao4)\n",
    "start10_merge = time.time()\n",
    "\n",
    "#VETOR 1M\n",
    "start9_merge = time.time()\n",
    "merge_sort(vetorzao3)\n",
    "start9_merge = time.time()\n",
    "\n",
    "#VETOR 500K\n",
    "start8_merge = time.time()\n",
    "merge_sort(vetorzao2)\n",
    "start8_merge = time.time()\n",
    "\n",
    "#VETOR 100K\n",
    "start7_merge = time.time()\n",
    "merge_sort(vetorzao1)\n",
    "start7_merge = time.time()\n"
   ]
  },
  {
   "cell_type": "markdown",
   "metadata": {},
   "source": [
    "#### Colocando os valores de tempo encontrados para vetores de tamanho 100k até 10M em um vetor\n"
   ]
  },
  {
   "cell_type": "code",
   "execution_count": null,
   "metadata": {},
   "outputs": [],
   "source": [
    "m7 = end7_merge - start7_merge\n",
    "m8 = end8_merge - start8_merge\n",
    "m9 = end9_merge - start9_merge\n",
    "m10 = end10_merge - start10_merge\n",
    "m11 = end11_merge - start11_merge\n",
    "m12 = end12_merge - start12_merge\n",
    "\n",
    "merge_vetorzao = [m7,m8,m9,m10,m11,m12]\n",
    "\n",
    "plt.plot(merge_vetorzao, linestyle='-', marker='o')"
   ]
  },
  {
   "cell_type": "markdown",
   "metadata": {},
   "source": [
    "#### Integrando os 2 vetores"
   ]
  },
  {
   "cell_type": "code",
   "execution_count": null,
   "metadata": {},
   "outputs": [],
   "source": [
    "merge_total = [m1,m2,m3,m4,m5,m6,m7,m8,m9,m10,m11,m12]\n",
    "\n",
    "plt.plot(merge_vetorzao, linestyle='-', marker='o')"
   ]
  },
  {
   "cell_type": "markdown",
   "metadata": {},
   "source": [
    "## BENCHMARCKING"
   ]
  },
  {
   "cell_type": "code",
   "execution_count": null,
   "metadata": {},
   "outputs": [],
   "source": [
    "\n",
    "#plt.figure(figsize=(5,5))\n",
    "#plt.plot( selection, linestyle='-', marker='o',color='skyblue')\n",
    "#plt.plot(quick, linestyle='-', marker='o')\n",
    "#plt.plot(bucket, linestyle='-', marker='o')\n",
    "# plt.show()"
   ]
  }
 ],
 "metadata": {
  "kernelspec": {
   "display_name": "Python 3",
   "language": "python",
   "name": "python3"
  },
  "language_info": {
   "codemirror_mode": {
    "name": "ipython",
    "version": 3
   },
   "file_extension": ".py",
   "mimetype": "text/x-python",
   "name": "python",
   "nbconvert_exporter": "python",
   "pygments_lexer": "ipython3",
   "version": "3.7.3"
  }
 },
 "nbformat": 4,
 "nbformat_minor": 2
}
