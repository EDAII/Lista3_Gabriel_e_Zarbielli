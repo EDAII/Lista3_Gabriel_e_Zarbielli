{
 "cells": [
  {
   "cell_type": "markdown",
   "metadata": {},
   "source": [
    "# Algoritmos de Ordenação O (n log n)"
   ]
  },
  {
   "cell_type": "markdown",
   "metadata": {},
   "source": [
    "### Importando bibliotecas"
   ]
  },
  {
   "cell_type": "code",
   "execution_count": 1,
   "metadata": {},
   "outputs": [],
   "source": [
    "import time \n",
    "import math\n",
    "import matplotlib.pyplot as plt\n",
    "import numpy as np\n",
    "import pandas as pd"
   ]
  },
  {
   "cell_type": "markdown",
   "metadata": {},
   "source": [
    "### Definindo vetores"
   ]
  },
  {
   "cell_type": "code",
   "execution_count": 2,
   "metadata": {},
   "outputs": [],
   "source": [
    "# TAMANHO VETOR 5K - 20K\n",
    "# ELEMENTOS DE 0 À 1M\n",
    "\n",
    "\n",
    "vetorzin6 = np.random.randint(1000000, size=(20000))\n",
    "vetorzin5 = np.random.randint(1000000, size=(17500))\n",
    "vetorzin4 = np.random.randint(1000000, size=(15000))\n",
    "vetorzin3 = np.random.randint(1000000, size=(12500))\n",
    "vetorzin2 = np.random.randint(1000000, size=(10000))\n",
    "vetorzin1 = np.random.randint(1000000, size=(5000))\n",
    "\n",
    "# TAMANHO VETOR 100K - 10M\n",
    "# ELEMENTOS DE 0 À 10M\n",
    "\n",
    "vetorzao6 = np.random.randint(10000000, size=(10000000))\n",
    "vetorzao5 = np.random.randint(10000000, size=(5000000))\n",
    "vetorzao4 = np.random.randint(10000000, size=(2000000))\n",
    "vetorzao3 = np.random.randint(10000000, size=(1000000))\n",
    "vetorzao2 = np.random.randint(10000000, size=(500000))\n",
    "vetorzao1 = np.random.randint(10000000, size=(100000))"
   ]
  },
  {
   "cell_type": "markdown",
   "metadata": {},
   "source": [
    "## Algoritmos de Ordenação O (n²)"
   ]
  },
  {
   "cell_type": "markdown",
   "metadata": {},
   "source": [
    "### Selection Sort"
   ]
  },
  {
   "cell_type": "code",
   "execution_count": 3,
   "metadata": {},
   "outputs": [],
   "source": [
    "def selection_sort(vector):\n",
    "\n",
    "    for i in range(0, len(vector) - 1):\n",
    "        less = i;\n",
    "        for j in range(i+1, len(vector)):\n",
    "            if vector[j] < vector[less]:\n",
    "                less = j\n",
    "            \n",
    "        vector[i],vector[less] = vector[less],vector[i]    \n",
    "    return vector"
   ]
  },
  {
   "cell_type": "markdown",
   "metadata": {},
   "source": [
    "#### Chamando o selection para vetores de tamanho 5k até 20k e calculando o tempo de execução"
   ]
  },
  {
   "cell_type": "code",
   "execution_count": 4,
   "metadata": {},
   "outputs": [],
   "source": [
    "#VETOR 20K\n",
    "start6_selection = time.time()\n",
    "selection_sort(vetorzin6)\n",
    "end6_selection = time.time()\n",
    "\n",
    "#VETOR 17,5K\n",
    "start5_selection = time.time()\n",
    "selection_sort(vetorzin5)\n",
    "end5_selection = time.time()\n",
    "\n",
    "#VETOR 15K\n",
    "start4_selection = time.time()\n",
    "selection_sort(vetorzin4)\n",
    "end4_selection = time.time()\n",
    "\n",
    "#VETOR 12,5K\n",
    "start3_selection = time.time()\n",
    "selection_sort(vetorzin3)\n",
    "end3_selection = time.time()\n",
    "\n",
    "#VETOR 10K\n",
    "start2_selection = time.time()\n",
    "selection_sort(vetorzin2)\n",
    "end2_selection = time.time()\n",
    "\n",
    "#VETOR 5K\n",
    "start1_selection = time.time()\n",
    "selection_sort(vetorzin1)\n",
    "end1_selection = time.time()"
   ]
  },
  {
   "cell_type": "markdown",
   "metadata": {},
   "source": [
    "#### Colocando os valores de tempo encontrados em um vetor"
   ]
  },
  {
   "cell_type": "code",
   "execution_count": 5,
   "metadata": {},
   "outputs": [
    {
     "data": {
      "text/plain": [
       "[<matplotlib.lines.Line2D at 0x129cd4c50>]"
      ]
     },
     "execution_count": 5,
     "metadata": {},
     "output_type": "execute_result"
    },
    {
     "data": {
      "image/png": "[encoded data removed]",
      "text/plain": [
       "<Figure size 432x288 with 1 Axes>"
      ]
     },
     "metadata": {
      "needs_background": "light"
     },
     "output_type": "display_data"
    }
   ],
   "source": [
    "s6 = end6_selection - start6_selection\n",
    "s5 = end5_selection - start5_selection\n",
    "s4 = end4_selection - start4_selection\n",
    "s3 = end3_selection - start3_selection\n",
    "s2 = end2_selection - start2_selection\n",
    "s1 = end1_selection - start1_selection\n",
    "\n",
    "selection = [s1,s2,s3,s4,s5,s6]\n",
    "plt.plot(selection, linestyle='-', marker='o')"
   ]
  },
  {
   "cell_type": "markdown",
   "metadata": {},
   "source": [
    "### Bubble Sort"
   ]
  },
  {
   "cell_type": "code",
   "execution_count": 6,
   "metadata": {},
   "outputs": [],
   "source": [
    "def bubble_sort(vector):\n",
    "    for i in range(0, len(vector) - 1):\n",
    "        for j in range(0, len(vector) - 1):\n",
    "            if vector[j] > vector[j+1]:\n",
    "                vector[j], vector[j+1] = vector[j+1], vector[j]\n",
    "        \n",
    "    return vector"
   ]
  },
  {
   "cell_type": "markdown",
   "metadata": {},
   "source": [
    "#### Chamando o bubble para vetores de tamanho 5k até 20k e calculando o tempo de execução"
   ]
  },
  {
   "cell_type": "code",
   "execution_count": 7,
   "metadata": {},
   "outputs": [],
   "source": [
    "#VETOR 20K\n",
    "start6_bubble = time.time()\n",
    "bubble_sort(vetorzin6)\n",
    "end6_bubble = time.time()\n",
    "\n",
    "#VETOR 17,5K\n",
    "start5_bubble = time.time()\n",
    "bubble_sort(vetorzin5)\n",
    "end5_bubble = time.time()\n",
    "\n",
    "#VETOR 15K\n",
    "start4_bubble = time.time()\n",
    "bubble_sort(vetorzin4)\n",
    "end4_bubble = time.time()\n",
    "\n",
    "#VETOR 12,5K\n",
    "start3_bubble = time.time()\n",
    "bubble_sort(vetorzin3)\n",
    "end3_bubble = time.time()\n",
    "\n",
    "#VETOR 10K\n",
    "start2_bubble = time.time()\n",
    "bubble_sort(vetorzin2)\n",
    "end2_bubble = time.time()\n",
    "\n",
    "#VETOR 5K\n",
    "start1_bubble = time.time()\n",
    "bubble_sort(vetorzin1)\n",
    "end1_bubble = time.time()\n",
    "\n"
   ]
  },
  {
   "cell_type": "markdown",
   "metadata": {},
   "source": [
    "#### Colocando os valores de tempo encontrados em um vetor"
   ]
  },
  {
   "cell_type": "code",
   "execution_count": 8,
   "metadata": {},
   "outputs": [
    {
     "data": {
      "text/plain": [
       "[<matplotlib.lines.Line2D at 0x129e27dd8>]"
      ]
     },
     "execution_count": 8,
     "metadata": {},
     "output_type": "execute_result"
    },
    {
     "data": {
      "image/png": "[encoded data removed]",
      "text/plain": [
       "<Figure size 432x288 with 1 Axes>"
      ]
     },
     "metadata": {
      "needs_background": "light"
     },
     "output_type": "display_data"
    }
   ],
   "source": [
    "b6 = end6_bubble - start6_bubble\n",
    "b5 = end5_bubble - start5_bubble\n",
    "b4 = end4_bubble - start4_bubble\n",
    "b3 = end3_bubble - start3_bubble\n",
    "b2 = end2_bubble - start2_bubble\n",
    "b1 = end1_bubble - start1_bubble\n",
    "\n",
    "bubble = [b1,b2,b3,b4,b5,b6]\n",
    "plt.plot(bubble, linestyle='-', marker='o')"
   ]
  },
  {
   "cell_type": "markdown",
   "metadata": {},
   "source": [
    "## Algoritmos de Ordenação O (n log n)"
   ]
  },
  {
   "cell_type": "markdown",
   "metadata": {},
   "source": [
    "### Quick Sort"
   ]
  },
  {
   "cell_type": "markdown",
   "metadata": {},
   "source": [
    "#### Características:\n",
    "\n",
    "* Instável \n",
    "* Operações Locais (in-place)\n",
    "* Dividir e Conquistar \n",
    "* O(n log n)\n",
    "\n",
    "#### Definição e Lógica:\n",
    "\n",
    "Usando a abordegam de dividir e conquistar o Quick Sort usa da partição como lógica principal do algorítimo. Uma das característica do Quick Sort é a instabilidade que não pode ser ajustada com mudanças no código.\n",
    "\n",
    "A estratégia consiste em rearranjar as chaves de modo que as chaves menores fiquem antes das chaves maiores. Em seguida o quicksort ordena as duas sublistas de chaves menores e maiores recursivamente até que a lista completa se encontre ordenada. Os passos são:\n",
    "\n",
    "1. Escolher pivô;\n",
    "\n",
    "2. Particionar: rearranjar a lista de forma que todos os elementos anteriores ao pivô sejam menores que ele, e todos os elementos posteriores ao pivô sejam maiores que ele. Ao fim do processo o pivô estará em sua posição final e haverá duas sublistas não ordenadas;\n",
    "\n",
    "3. Recursivamente ordenar a sublista dos elementos menores e a sublista dos elementos maiores;\n",
    "\n",
    "4. O caso base da recursão são as listas de tamanho zero ou um, que estão sempre ordenadas. O processo é finito, pois a cada iteração pelo menos um elemento é posto em sua posição final e não será mais manipulado na iteração seguinte.\n",
    "\n",
    "A escolha do pivô e os passos do Particionar podem ser feitos de diferentes formas e a escolha de uma implementação específica afeta fortemente a performance do algoritmo. A escolha de um pivo ruim pode implicar a mudança de complexidade do algoritmo de O(n log n) para O(n²), por isso escolhemos o Quick Sort usando a mediana de três que consiste em achar qual o melhor pivo entre o primeiro o último e o índice do méio, sendo ele, o pivo, a mediana entre eles, fazendo assim com que mesmo que o vetor esteja ordenado o Quick Sort não caia no pior caso O(n²).\n",
    "\n",
    "\n"
   ]
  },
  {
   "cell_type": "markdown",
   "metadata": {},
   "source": [
    "#### Algoritmo Quick Sort Mediana de Três"
   ]
  },
  {
   "cell_type": "code",
   "execution_count": 9,
   "metadata": {},
   "outputs": [],
   "source": [
    "def quick_sort(array, begin,end):\n",
    "    if begin < end:\n",
    "        new_begin_end = particion(array, begin, end)\n",
    "        \n",
    "        #Chamada recursiva\n",
    "        quick_sort(array, begin, new_begin_end - 1) # Quick Sort para subarray de zero a pivo - 1\n",
    "        quick_sort(array, new_begin_end + 1, end) # Quick Sort para subarray de pivo + 1 a fim \n",
    "\n",
    "        \n",
    "def particion(array, begin, end) -> (int):\n",
    "    \n",
    "    # Observe que os nomes em português são valores e os inglês são índices\n",
    "    middle = (begin + end) // 2\n",
    "    inicio = array[begin]\n",
    "    meio = array[middle]\n",
    "    final = array[end]\n",
    "    \n",
    "    # Comparação entre entre inicio, meio e fim para achar a mediana\n",
    "    if inicio < meio:\n",
    "        if meio < final:\n",
    "            mediana_index = middle\n",
    "        else:\n",
    "            if inicio < final:\n",
    "                mediana_index = end\n",
    "            else:\n",
    "                mediana_index = begin\n",
    "    else:\n",
    "        if final < meio:\n",
    "            mediana_index = middle\n",
    "        else:\n",
    "            if final < inicio:\n",
    "                mediana_index = end\n",
    "            else: \n",
    "                mediana_index = begin\n",
    "                \n",
    "    # Swap\n",
    "    array[mediana_index], array[end] = array[end], array[mediana_index]\n",
    "    \n",
    "    pivo = array[end]\n",
    "    i = begin - 1\n",
    "    \n",
    "    for j in range(begin, end+1):\n",
    "        if array[j] <= pivo: # Fonte da instabilidade\n",
    "            i += 1\n",
    "            array[i], array[j] = array[j], array[i]\n",
    "                     \n",
    "    return i \n"
   ]
  },
  {
   "cell_type": "markdown",
   "metadata": {},
   "source": [
    "#### Chamando o quick para vetores de tamanho 5k até 20k e calculando o tempo de execução"
   ]
  },
  {
   "cell_type": "code",
   "execution_count": 10,
   "metadata": {
    "scrolled": true
   },
   "outputs": [],
   "source": [
    "#VETOR 20K\n",
    "start6_quick = time.time()\n",
    "quick_sort(vetorzin6, 0, len(vetorzin6) - 1)\n",
    "end6_quick = time.time()\n",
    "\n",
    "#VETOR 17,5K\n",
    "start5_quick = time.time()\n",
    "quick_sort(vetorzin5, 0, len(vetorzin5) - 1)\n",
    "end5_quick = time.time()\n",
    "\n",
    "#VETOR 15K\n",
    "start4_quick = time.time()\n",
    "quick_sort(vetorzin4, 0, len(vetorzin4) - 1)\n",
    "end4_quick = time.time()\n",
    "\n",
    "#VETOR 12,5K\n",
    "start3_quick = time.time()\n",
    "quick_sort(vetorzin3, 0, len(vetorzin3) - 1)\n",
    "end3_quick = time.time()\n",
    "\n",
    "#VETOR 10K\n",
    "start2_quick = time.time()\n",
    "quick_sort(vetorzin2, 0, len(vetorzin2) - 1)\n",
    "end2_quick = time.time()\n",
    "\n",
    "#VETOR 5K\n",
    "start1_quick = time.time()\n",
    "quick_sort(vetorzin1, 0, len(vetorzin1) - 1)\n",
    "end1_quick = time.time()\n"
   ]
  },
  {
   "cell_type": "markdown",
   "metadata": {},
   "source": [
    "#### Colocando os valores de tempo encontrados para vetores de tamanho 5k até 20k em um vetor\n"
   ]
  },
  {
   "cell_type": "code",
   "execution_count": 11,
   "metadata": {},
   "outputs": [
    {
     "data": {
      "text/plain": [
       "[<matplotlib.lines.Line2D at 0x129e92ac8>]"
      ]
     },
     "execution_count": 11,
     "metadata": {},
     "output_type": "execute_result"
    },
    {
     "data": {
      "image/png": "[encoded data removed]",
      "text/plain": [
       "<Figure size 432x288 with 1 Axes>"
      ]
     },
     "metadata": {
      "needs_background": "light"
     },
     "output_type": "display_data"
    }
   ],
   "source": [
    "q6 = end6_quick - start6_quick\n",
    "q5 = end5_quick - start5_quick\n",
    "q4 = end4_quick - start4_quick\n",
    "q3 = end3_quick - start3_quick\n",
    "q2 = end2_quick - start2_quick\n",
    "q1 = end1_quick - start1_quick\n",
    "\n",
    "quick_vetorzin = [q1,q2,q3,q4,q5,q6]\n",
    "\n",
    "plt.plot(quick_vetorzin, linestyle='-', marker='o')"
   ]
  },
  {
   "cell_type": "markdown",
   "metadata": {},
   "source": [
    "#### Chamando o quick para vetores de tamanho 100k até 10M e calculando o tempo de execução"
   ]
  },
  {
   "cell_type": "code",
   "execution_count": 12,
   "metadata": {},
   "outputs": [],
   "source": [
    "#VETOR 10M\n",
    "start12_quick = time.time()\n",
    "quick_sort(vetorzao6, 0, len(vetorzao6) - 1)\n",
    "end12_quick = time.time()\n",
    "\n",
    "#VETOR 5M\n",
    "start11_quick = time.time()\n",
    "quick_sort(vetorzao5, 0, len(vetorzao5) - 1)\n",
    "end11_quick = time.time()\n",
    "\n",
    "#VETOR 2M\n",
    "start10_quick = time.time()\n",
    "quick_sort(vetorzao4, 0, len(vetorzao4) - 1)\n",
    "end10_quick = time.time()\n",
    "\n",
    "#VETOR 1M\n",
    "start9_quick = time.time()\n",
    "quick_sort(vetorzao3, 0, len(vetorzao3) - 1)\n",
    "end9_quick = time.time()\n",
    "\n",
    "#VETOR 500K\n",
    "start8_quick = time.time()\n",
    "quick_sort(vetorzao2, 0, len(vetorzao2) - 1)\n",
    "end8_quick = time.time()\n",
    "\n",
    "#VETOR 100K\n",
    "start7_quick = time.time()\n",
    "quick_sort(vetorzao1, 0, len(vetorzao1) - 1)\n",
    "end7_quick = time.time()\n"
   ]
  },
  {
   "cell_type": "markdown",
   "metadata": {},
   "source": [
    "#### Colocando os valores de tempo encontrados para vetores de tamanho 100k até 10M em um vetor\n"
   ]
  },
  {
   "cell_type": "code",
   "execution_count": 13,
   "metadata": {},
   "outputs": [
    {
     "data": {
      "text/plain": [
       "[<matplotlib.lines.Line2D at 0x129fcdac8>]"
      ]
     },
     "execution_count": 13,
     "metadata": {},
     "output_type": "execute_result"
    },
    {
     "data": {
      "image/png": "[encoded data removed]",
      "text/plain": [
       "<Figure size 432x288 with 1 Axes>"
      ]
     },
     "metadata": {
      "needs_background": "light"
     },
     "output_type": "display_data"
    }
   ],
   "source": [
    "q7 = end7_quick - start7_quick\n",
    "q8 = end8_quick - start8_quick\n",
    "q9 = end9_quick - start9_quick\n",
    "q10 = end10_quick - start10_quick\n",
    "q11 = end11_quick - start11_quick\n",
    "q12 = end12_quick - start12_quick\n",
    "\n",
    "quick_vetorzao = [q7,q8,q9,q10,q11,q12]\n",
    "\n",
    "plt.plot(quick_vetorzao, linestyle='-', marker='o')"
   ]
  },
  {
   "cell_type": "markdown",
   "metadata": {},
   "source": [
    "#### Integrando os 2 vetores"
   ]
  },
  {
   "cell_type": "code",
   "execution_count": 14,
   "metadata": {},
   "outputs": [
    {
     "data": {
      "text/plain": [
       "[<matplotlib.lines.Line2D at 0x12a024ef0>]"
      ]
     },
     "execution_count": 14,
     "metadata": {},
     "output_type": "execute_result"
    },
    {
     "data": {
      "image/png": "[encoded data removed]",
      "text/plain": [
       "<Figure size 432x288 with 1 Axes>"
      ]
     },
     "metadata": {
      "needs_background": "light"
     },
     "output_type": "display_data"
    }
   ],
   "source": [
    "quick_total = [q1,q2,q3,q4,q5,q6,q7,q8,q9,q10,q11,q12]\n",
    "\n",
    "plt.plot(quick_total, linestyle='-', marker='o')"
   ]
  },
  {
   "cell_type": "markdown",
   "metadata": {},
   "source": [
    "### Merge Sort"
   ]
  },
  {
   "cell_type": "markdown",
   "metadata": {},
   "source": [
    "#### Características:\n",
    "\n",
    "* Características:\n",
    "* Dividir e conquistar\n",
    "* Não local\n",
    "* O(n log n)\n",
    "* Alto consumo de memória\n",
    "\n",
    "#### Definição e Lógica:\n",
    "\n",
    "A ideia é dividir a lista não ordenada em grupos menores até que haja apenas um elemento em um grupo. Em seguida,\n",
    "agrupar dois elementos na ordem correta e gradualmente criar uma lista do tamanho original. Toda vez que a junção\n",
    "acontece, os elementos nos grupos devem ser comparados um por um e combinados em uma única lista em ordem. Esse\n",
    "processo continua até que todos os elementos sejam mesclados e ordenados. Observe que, quando o reagrupamento\n",
    "acontece, a ordem deve sempre ser mantida."
   ]
  },
  {
   "cell_type": "markdown",
   "metadata": {},
   "source": [
    "#### Algoritmo Merge Sort"
   ]
  },
  {
   "cell_type": "code",
   "execution_count": 15,
   "metadata": {},
   "outputs": [],
   "source": [
    "def merge_sort(vector):\n",
    "\n",
    "    if len(vector)>1:\n",
    "        mid = len(vector)//2\n",
    "        left_half = vector[:mid]\n",
    "        right_half = vector[mid:]\n",
    "\n",
    "        merge_sort(left_half)\n",
    "        merge_sort(right_half)\n",
    "\n",
    "        i=0\n",
    "        j=0\n",
    "        k=0\n",
    "\n",
    "        while i < len(left_half) and j < len(right_half):\n",
    "            if left_half[i] < right_half[j]:\n",
    "                vector[k]=left_half[i]\n",
    "                i=i+1\n",
    "            else:\n",
    "                vector[k]=right_half[j]\n",
    "                j=j+1\n",
    "            k=k+1\n",
    "\n",
    "        while i < len(left_half):\n",
    "            vector[k]=left_half[i]\n",
    "            i=i+1\n",
    "            k=k+1\n",
    "\n",
    "        while j < len(right_half):\n",
    "            vector[k]=right_half[j]\n",
    "            j=j+1\n",
    "            k=k+1\n"
   ]
  },
  {
   "cell_type": "markdown",
   "metadata": {},
   "source": [
    "#### Chamando o merge para vetores de tamanho 5k até 20k e calculando o tempo de execução"
   ]
  },
  {
   "cell_type": "code",
   "execution_count": 16,
   "metadata": {},
   "outputs": [],
   "source": [
    "#VETOR 20K\n",
    "start6_merge = time.time()\n",
    "merge_sort(vetorzin6)\n",
    "end6_merge = time.time()\n",
    "\n",
    "#VETOR 17,5K\n",
    "start5_merge = time.time()\n",
    "merge_sort(vetorzin5)\n",
    "end5_merge = time.time()\n",
    "\n",
    "#VETOR 15K\n",
    "start4_merge = time.time()\n",
    "merge_sort(vetorzin4)\n",
    "end4_merge = time.time()\n",
    "\n",
    "#VETOR 12,5K\n",
    "start3_merge = time.time()\n",
    "merge_sort(vetorzin3)\n",
    "end3_merge = time.time()\n",
    "\n",
    "#VETOR 10K\n",
    "start2_merge = time.time()\n",
    "merge_sort(vetorzin2)\n",
    "end2_merge = time.time()\n",
    "\n",
    "#VETOR 5K\n",
    "start1_merge = time.time()\n",
    "merge_sort(vetorzin1)\n",
    "end1_merge = time.time()\n"
   ]
  },
  {
   "cell_type": "markdown",
   "metadata": {},
   "source": [
    "#### Colocando os valores de tempo encontrados para vetores de tamanho 5k até 20k em um vetor\n"
   ]
  },
  {
   "cell_type": "code",
   "execution_count": 17,
   "metadata": {},
   "outputs": [
    {
     "data": {
      "text/plain": [
       "[<matplotlib.lines.Line2D at 0x12a15c4a8>]"
      ]
     },
     "execution_count": 17,
     "metadata": {},
     "output_type": "execute_result"
    },
    {
     "data": {
      "image/png": "[encoded data removed]",
      "text/plain": [
       "<Figure size 432x288 with 1 Axes>"
      ]
     },
     "metadata": {
      "needs_background": "light"
     },
     "output_type": "display_data"
    }
   ],
   "source": [
    "m6 = end6_merge - start6_merge\n",
    "m5 = end5_merge - start5_merge\n",
    "m4 = end4_merge - start4_merge\n",
    "m3 = end3_merge - start3_merge\n",
    "m2 = end2_merge - start2_merge\n",
    "m1 = end1_merge - start1_merge\n",
    "\n",
    "merge_vetorzin = [m1,m2,m3,m4,m5,m6]\n",
    "\n",
    "plt.plot(merge_vetorzin, linestyle='-', marker='o')"
   ]
  },
  {
   "cell_type": "markdown",
   "metadata": {},
   "source": [
    "#### Chamando o merge para vetores de tamanho 100k até 10M e calculando o tempo de execução¶\n"
   ]
  },
  {
   "cell_type": "code",
   "execution_count": 18,
   "metadata": {},
   "outputs": [],
   "source": [
    "#VETOR 10M\n",
    "start12_merge = time.time()\n",
    "merge_sort(vetorzao6)\n",
    "end12_merge = time.time()\n",
    "\n",
    "#VETOR 5M\n",
    "start11_merge = time.time()\n",
    "merge_sort(vetorzao5)\n",
    "end11_merge = time.time()\n",
    "\n",
    "#VETOR 2M\n",
    "start10_merge = time.time()\n",
    "merge_sort(vetorzao4)\n",
    "end10_merge = time.time()\n",
    "\n",
    "#VETOR 1M\n",
    "start9_merge = time.time()\n",
    "merge_sort(vetorzao3)\n",
    "end9_merge = time.time()\n",
    "\n",
    "#VETOR 500K\n",
    "start8_merge = time.time()\n",
    "merge_sort(vetorzao2)\n",
    "end8_merge = time.time()\n",
    "\n",
    "#VETOR 100K\n",
    "start7_merge = time.time()\n",
    "merge_sort(vetorzao1)\n",
    "end7_merge = time.time()"
   ]
  },
  {
   "cell_type": "markdown",
   "metadata": {},
   "source": [
    "#### Colocando os valores de tempo encontrados para vetores de tamanho 100k até 10M em um vetor¶\n"
   ]
  },
  {
   "cell_type": "code",
   "execution_count": 19,
   "metadata": {},
   "outputs": [
    {
     "data": {
      "text/plain": [
       "[<matplotlib.lines.Line2D at 0x12a1b4828>]"
      ]
     },
     "execution_count": 19,
     "metadata": {},
     "output_type": "execute_result"
    },
    {
     "data": {
      "image/png": "[encoded data removed]",
      "text/plain": [
       "<Figure size 432x288 with 1 Axes>"
      ]
     },
     "metadata": {
      "needs_background": "light"
     },
     "output_type": "display_data"
    }
   ],
   "source": [
    "m7 = end7_merge - start7_merge\n",
    "m8 = end8_merge - start8_merge\n",
    "m9 = end9_merge - start9_merge\n",
    "m10 = end10_merge - start10_merge\n",
    "m11 = end11_merge - start11_merge\n",
    "m12 = end12_merge - start12_merge\n",
    "\n",
    "merge_vetorzao = [m7,m8,m9,m10,m11,m12]\n",
    "\n",
    "plt.plot(merge_vetorzao, linestyle='-', marker='o')"
   ]
  },
  {
   "cell_type": "markdown",
   "metadata": {},
   "source": [
    "#### Integrando os 2 vetores\n"
   ]
  },
  {
   "cell_type": "code",
   "execution_count": 20,
   "metadata": {},
   "outputs": [
    {
     "data": {
      "text/plain": [
       "[<matplotlib.lines.Line2D at 0x12a2800f0>]"
      ]
     },
     "execution_count": 20,
     "metadata": {},
     "output_type": "execute_result"
    },
    {
     "data": {
      "image/png": "[encoded data removed]",
      "text/plain": [
       "<Figure size 432x288 with 1 Axes>"
      ]
     },
     "metadata": {
      "needs_background": "light"
     },
     "output_type": "display_data"
    }
   ],
   "source": [
    "merge_total = [m1,m2,m3,m4,m5,m6,m7,m8,m9,m10,m11,m12]\n",
    "\n",
    "plt.plot(merge_total, linestyle='-', marker='o')"
   ]
  },
  {
   "cell_type": "markdown",
   "metadata": {},
   "source": [
    "### Bucket Sort"
   ]
  },
  {
   "cell_type": "markdown",
   "metadata": {},
   "source": [
    "#### Características:\n",
    "\n",
    "* Estavel\n",
    "* Dividir e Conquistar\n",
    "* O(n log n)\n",
    "\n",
    "\n",
    "\n",
    "#### Definição e Lógica:\n",
    "\n",
    "Bucket sort, é um algoritmo de ordenação que funciona dividindo um vetor em um número finito de baldes. Cada balde é então ordenado individualmente, seja usando um algoritmo de ordenação diferente, ou usando o algoritmo bucket sort recursivamente, algorítimo tem complexidade linear O(n log n).\n",
    "\n",
    "A estratégia consiste em dividir o array em vários subgrupos chamados de baldes, onde só elementos do mesmo \"tipo\" estão nesse balde. Após essa divisão é aplicado outro método de ordenação para cada um dos baldes e os baldes se juntam novamente formando um vetor ordenado.\n",
    "\n",
    "Bucket sort funciona do seguinte modo:\n",
    "\n",
    "1. Inicialize um vetor de \"baldes\", inicialmente vazios.\n",
    "2. Vá para o vetor original, incluindo cada elemento em um balde.\n",
    "3. Ordene todos os baldes não vazios.\n",
    "4. Coloque os elementos dos baldes que não estão vazios no vetor original.\n"
   ]
  },
  {
   "cell_type": "markdown",
   "metadata": {},
   "source": [
    "#### Algoritmo Bucket Sort utilizando o Quick Sort"
   ]
  },
  {
   "cell_type": "code",
   "execution_count": 21,
   "metadata": {},
   "outputs": [],
   "source": [
    "def bucket_sort_quick( A ):\n",
    "\n",
    "    code = hashing( A )\n",
    "    buckets = [list() for _ in range( code[1] )]\n",
    "    \n",
    "    for i in A:\n",
    "        x = re_hashing( i, code )\n",
    "        buck = buckets[x]\n",
    "        buck.append( i )\n",
    " \n",
    "    for bucket in buckets:\n",
    "        quick_sort(bucket, 0, len(bucket)-1)\n",
    "        ndx = 0\n",
    "        \n",
    "    for b in range( len( buckets ) ):\n",
    "        for v in buckets[b]:\n",
    "            A[ndx] = v\n",
    "            ndx += 1\n",
    "\n",
    "def hashing( A ):\n",
    "    m = A[0]\n",
    "    for i in range( 1, len( A ) ):\n",
    "        if ( m < A[i] ):\n",
    "            m = A[i]\n",
    "    result = [m, int( math.sqrt( len( A ) ) )]\n",
    "    return result\n",
    " \n",
    "def re_hashing( i, code ):\n",
    "    return int( i / code[0] * ( code[1] - 1 ) )\n"
   ]
  },
  {
   "cell_type": "markdown",
   "metadata": {},
   "source": [
    "#### Algoritmo Bucket Sort utilizando o Merge Sort"
   ]
  },
  {
   "cell_type": "code",
   "execution_count": 22,
   "metadata": {},
   "outputs": [],
   "source": [
    "def bucket_sort_merge( A ):\n",
    "\n",
    "    code = hashing( A )\n",
    "    buckets = [list() for _ in range( code[1] )]\n",
    "    \n",
    "    for i in A:\n",
    "        x = re_hashing( i, code )\n",
    "        buck = buckets[x]\n",
    "        buck.append( i )\n",
    " \n",
    "    for bucket in buckets:\n",
    "        merge_sort(bucket)\n",
    "        ndx = 0\n",
    "        \n",
    "    for b in range( len( buckets ) ):\n",
    "        for v in buckets[b]:\n",
    "            A[ndx] = v\n",
    "            ndx += 1\n",
    "\n",
    "def hashing( A ):\n",
    "    m = A[0]\n",
    "    for i in range( 1, len( A ) ):\n",
    "        if ( m < A[i] ):\n",
    "            m = A[i]\n",
    "    result = [m, int( math.sqrt( len( A ) ) )]\n",
    "    return result\n",
    " \n",
    "def re_hashing( i, code ):\n",
    "    return int( i / code[0] * ( code[1] - 1 ) )"
   ]
  },
  {
   "cell_type": "markdown",
   "metadata": {},
   "source": [
    "#### Chamando o bucket com quick para vetores de tamanho 5k até 20k e calculando o tempo de execução"
   ]
  },
  {
   "cell_type": "code",
   "execution_count": 23,
   "metadata": {},
   "outputs": [],
   "source": [
    "#VETOR 20K\n",
    "start6_bucket_quick = time.time()\n",
    "bucket_sort_quick(vetorzin6)\n",
    "end6_bucket_quick = time.time()\n",
    "\n",
    "#VETOR 17,5K\n",
    "start5_bucket_quick = time.time()\n",
    "bucket_sort_quick(vetorzin5)\n",
    "end5_bucket_quick = time.time()\n",
    "\n",
    "#VETOR 15K\n",
    "start4_bucket_quick = time.time()\n",
    "bucket_sort_quick(vetorzin4)\n",
    "end4_bucket_quick = time.time()\n",
    "\n",
    "#VETOR 12,5K\n",
    "start3_bucket_quick = time.time()\n",
    "bucket_sort_quick(vetorzin3)\n",
    "end3_bucket_quick = time.time()\n",
    "\n",
    "#VETOR 10K\n",
    "start2_bucket_quick = time.time()\n",
    "bucket_sort_quick(vetorzin2)\n",
    "end2_bucket_quick = time.time()\n",
    "\n",
    "#VETOR 5K\n",
    "start1_bucket_quick = time.time()\n",
    "bucket_sort_quick(vetorzin1)\n",
    "end1_bucket_quick = time.time()\n"
   ]
  },
  {
   "cell_type": "markdown",
   "metadata": {},
   "source": [
    "#### Chamando o bucket com merge para vetores de tamanho 5k até 20k e calculando o tempo de execução"
   ]
  },
  {
   "cell_type": "code",
   "execution_count": 24,
   "metadata": {},
   "outputs": [],
   "source": [
    "#VETOR 20K\n",
    "start6_bucket_merge = time.time()\n",
    "bucket_sort_merge(vetorzin6)\n",
    "end6_bucket_merge = time.time()\n",
    "\n",
    "#VETOR 17,5K\n",
    "start5_bucket_merge = time.time()\n",
    "bucket_sort_merge(vetorzin5)\n",
    "end5_bucket_merge = time.time()\n",
    "\n",
    "#VETOR 15K\n",
    "start4_bucket_merge = time.time()\n",
    "bucket_sort_merge(vetorzin4)\n",
    "end4_bucket_merge = time.time()\n",
    "\n",
    "#VETOR 12,5K\n",
    "start3_bucket_merge = time.time()\n",
    "bucket_sort_merge(vetorzin3)\n",
    "end3_bucket_merge = time.time()\n",
    "\n",
    "#VETOR 10K\n",
    "start2_bucket_merge = time.time()\n",
    "bucket_sort_merge(vetorzin2)\n",
    "end2_bucket_merge = time.time()\n",
    "\n",
    "#VETOR 5K\n",
    "start1_bucket_merge = time.time()\n",
    "bucket_sort_merge(vetorzin1)\n",
    "end1_bucket_merge = time.time()"
   ]
  },
  {
   "cell_type": "markdown",
   "metadata": {},
   "source": [
    "#### Colocando os valores de tempo encontrados para vetores de tamanho 5k até 20k em um vetor\n"
   ]
  },
  {
   "cell_type": "code",
   "execution_count": 25,
   "metadata": {
    "scrolled": true
   },
   "outputs": [
    {
     "data": {
      "text/plain": [
       "[<matplotlib.lines.Line2D at 0x12a3bd400>]"
      ]
     },
     "execution_count": 25,
     "metadata": {},
     "output_type": "execute_result"
    },
    {
     "data": {
      "image/png": "[encoded data removed]",
      "text/plain": [
       "<Figure size 432x288 with 1 Axes>"
      ]
     },
     "metadata": {
      "needs_background": "light"
     },
     "output_type": "display_data"
    }
   ],
   "source": [
    "bck6_quick = end6_bucket_quick - start6_bucket_quick\n",
    "bck5_quick = end5_bucket_quick - start5_bucket_quick\n",
    "bck4_quick = end4_bucket_quick - start4_bucket_quick\n",
    "bck3_quick = end3_bucket_quick - start3_bucket_quick\n",
    "bck2_quick = end2_bucket_quick - start2_bucket_quick\n",
    "bck1_quick = end1_bucket_quick - start1_bucket_quick\n",
    "\n",
    "bucket_vetorzin_quick = [bck1_quick,bck2_quick,bck3_quick,bck4_quick,bck5_quick,bck6_quick]\n",
    "\n",
    "plt.plot(bucket_vetorzin_quick, linestyle='-', marker='o')"
   ]
  },
  {
   "cell_type": "code",
   "execution_count": 26,
   "metadata": {},
   "outputs": [
    {
     "data": {
      "text/plain": [
       "[<matplotlib.lines.Line2D at 0x12a411b70>]"
      ]
     },
     "execution_count": 26,
     "metadata": {},
     "output_type": "execute_result"
    },
    {
     "data": {
      "image/png": "[encoded data removed]",
      "text/plain": [
       "<Figure size 432x288 with 1 Axes>"
      ]
     },
     "metadata": {
      "needs_background": "light"
     },
     "output_type": "display_data"
    }
   ],
   "source": [
    "bck6_merge = end6_bucket_merge - start6_bucket_merge\n",
    "bck5_merge = end5_bucket_merge - start5_bucket_merge\n",
    "bck4_merge = end4_bucket_merge - start4_bucket_merge\n",
    "bck3_merge = end3_bucket_merge - start3_bucket_merge\n",
    "bck2_merge = end2_bucket_merge - start2_bucket_merge\n",
    "bck1_merge = end1_bucket_merge - start1_bucket_merge\n",
    "\n",
    "bucket_vetorzin_merge = [bck1_merge,bck2_merge,bck3_merge,bck4_merge,bck5_merge,bck6_merge]\n",
    "\n",
    "plt.plot(bucket_vetorzin_merge, linestyle='-', marker='o')"
   ]
  },
  {
   "cell_type": "markdown",
   "metadata": {},
   "source": [
    "#### Chamando o bucket com quick  para vetores de tamanho 100k até 10M e calculando o tempo de execução"
   ]
  },
  {
   "cell_type": "code",
   "execution_count": 27,
   "metadata": {},
   "outputs": [],
   "source": [
    "#VETOR 10M\n",
    "start12_bucket_quick = time.time()\n",
    "bucket_sort_quick(vetorzao6)\n",
    "end12_bucket_quick = time.time()\n",
    "\n",
    "#VETOR 5M\n",
    "start11_bucket_quick = time.time()\n",
    "bucket_sort_quick(vetorzao5)\n",
    "end11_bucket_quick = time.time()\n",
    "\n",
    "#VETOR 2M\n",
    "start10_bucket_quick = time.time()\n",
    "bucket_sort_quick(vetorzao4)\n",
    "end10_bucket_quick = time.time()\n",
    "\n",
    "#VETOR 1M\n",
    "start9_bucket_quick = time.time()\n",
    "bucket_sort_quick(vetorzao3)\n",
    "end9_bucket_quick = time.time()\n",
    "\n",
    "#VETOR 500K\n",
    "start8_bucket_quick = time.time()\n",
    "bucket_sort_quick(vetorzao2)\n",
    "end8_bucket_quick = time.time()\n",
    "\n",
    "#VETOR 100K\n",
    "start7_bucket_quick = time.time()\n",
    "bucket_sort_quick(vetorzao1)\n",
    "end7_bucket_quick = time.time()"
   ]
  },
  {
   "cell_type": "markdown",
   "metadata": {},
   "source": [
    "#### Chamando o bucket com merge  para vetores de tamanho 100k até 10M e calculando o tempo de execução"
   ]
  },
  {
   "cell_type": "code",
   "execution_count": 28,
   "metadata": {},
   "outputs": [],
   "source": [
    "#VETOR 10M\n",
    "start12_bucket_merge = time.time()\n",
    "bucket_sort_merge(vetorzao6)\n",
    "end12_bucket_merge = time.time()\n",
    "\n",
    "#VETOR 5M\n",
    "start11_bucket_merge = time.time()\n",
    "bucket_sort_merge(vetorzao5)\n",
    "end11_bucket_merge = time.time()\n",
    "\n",
    "#VETOR 2M\n",
    "start10_bucket_merge = time.time()\n",
    "bucket_sort_merge(vetorzao4)\n",
    "end10_bucket_merge = time.time()\n",
    "\n",
    "#VETOR 1M\n",
    "start9_bucket_merge = time.time()\n",
    "bucket_sort_merge(vetorzao3)\n",
    "end9_bucket_merge = time.time()\n",
    "\n",
    "#VETOR 500K\n",
    "start8_bucket_merge = time.time()\n",
    "bucket_sort_merge(vetorzao2)\n",
    "end8_bucket_merge = time.time()\n",
    "\n",
    "#VETOR 100K\n",
    "start7_bucket_merge = time.time()\n",
    "bucket_sort_merge(vetorzao1)\n",
    "end7_bucket_merge = time.time()"
   ]
  },
  {
   "cell_type": "markdown",
   "metadata": {},
   "source": [
    "#### Colocando os valores de tempo encontrados para vetores de tamanho 100k até 10M em um vetor\n"
   ]
  },
  {
   "cell_type": "code",
   "execution_count": 29,
   "metadata": {},
   "outputs": [
    {
     "data": {
      "text/plain": [
       "[<matplotlib.lines.Line2D at 0x12a540978>]"
      ]
     },
     "execution_count": 29,
     "metadata": {},
     "output_type": "execute_result"
    },
    {
     "data": {
      "image/png": "[encoded data removed]",
      "text/plain": [
       "<Figure size 432x288 with 1 Axes>"
      ]
     },
     "metadata": {
      "needs_background": "light"
     },
     "output_type": "display_data"
    }
   ],
   "source": [
    "bck7_quick = end7_bucket_quick - start7_bucket_quick\n",
    "bck8_quick = end8_bucket_quick - start8_bucket_quick\n",
    "bck9_quick = end9_bucket_quick - start9_bucket_quick\n",
    "bck10_quick = end10_bucket_quick - start10_bucket_quick\n",
    "bck11_quick = end11_bucket_quick - start11_bucket_quick\n",
    "bck12_quick = end12_bucket_quick - start12_bucket_quick\n",
    "\n",
    "bucket_vetorzao_quick = [bck7_quick,bck8_quick,bck9_quick,bck10_quick,bck11_quick,bck12_quick]\n",
    "\n",
    "plt.plot(bucket_vetorzao_quick, linestyle='-', marker='o')"
   ]
  },
  {
   "cell_type": "code",
   "execution_count": 30,
   "metadata": {},
   "outputs": [
    {
     "data": {
      "text/plain": [
       "[<matplotlib.lines.Line2D at 0x12b82c550>]"
      ]
     },
     "execution_count": 30,
     "metadata": {},
     "output_type": "execute_result"
    },
    {
     "data": {
      "image/png": "[encoded data removed]",
      "text/plain": [
       "<Figure size 432x288 with 1 Axes>"
      ]
     },
     "metadata": {
      "needs_background": "light"
     },
     "output_type": "display_data"
    }
   ],
   "source": [
    "bck7_merge = end7_bucket_merge - start7_bucket_merge\n",
    "bck8_merge = end8_bucket_merge - start8_bucket_merge\n",
    "bck9_merge = end9_bucket_merge - start9_bucket_merge\n",
    "bck10_merge = end10_bucket_merge - start10_bucket_merge\n",
    "bck11_merge = end11_bucket_merge - start11_bucket_merge\n",
    "bck12_merge = end12_bucket_merge - start12_bucket_merge\n",
    "\n",
    "bucket_vetorzao_merge = [bck7_merge,bck8_merge,bck9_merge,bck10_merge,bck11_merge,bck12_merge]\n",
    "\n",
    "plt.plot(bucket_vetorzao_merge, linestyle='-', marker='o')"
   ]
  },
  {
   "cell_type": "markdown",
   "metadata": {},
   "source": [
    "#### Integrando os 2 vetores"
   ]
  },
  {
   "cell_type": "code",
   "execution_count": 31,
   "metadata": {},
   "outputs": [
    {
     "data": {
      "text/plain": [
       "[<matplotlib.lines.Line2D at 0x12abbe978>]"
      ]
     },
     "execution_count": 31,
     "metadata": {},
     "output_type": "execute_result"
    },
    {
     "data": {
      "image/png": "[encoded data removed]",
      "text/plain": [
       "<Figure size 432x288 with 1 Axes>"
      ]
     },
     "metadata": {
      "needs_background": "light"
     },
     "output_type": "display_data"
    }
   ],
   "source": [
    "bucket_total_quick = [bck1_quick,bck2_quick,bck3_quick,bck4_quick,bck5_quick,bck6_quick,bck7_quick,bck8_quick,bck9_quick,bck10_quick,bck11_quick,bck12_quick]\n",
    "\n",
    "plt.plot(bucket_total_quick, linestyle='-', marker='o')"
   ]
  },
  {
   "cell_type": "code",
   "execution_count": 32,
   "metadata": {},
   "outputs": [
    {
     "data": {
      "text/plain": [
       "[<matplotlib.lines.Line2D at 0x12cfded30>]"
      ]
     },
     "execution_count": 32,
     "metadata": {},
     "output_type": "execute_result"
    },
    {
     "data": {
      "image/png": "[encoded data removed]",
      "text/plain": [
       "<Figure size 432x288 with 1 Axes>"
      ]
     },
     "metadata": {
      "needs_background": "light"
     },
     "output_type": "display_data"
    }
   ],
   "source": [
    "bucket_total_merge = [bck1_merge,bck2_merge,bck3_merge,bck4_merge,bck5_merge,bck6_merge,bck7_merge,bck8_merge,bck9_merge,bck10_merge,bck11_merge,bck12_merge]\n",
    "\n",
    "plt.plot(bucket_total_merge, linestyle='-', marker='o')"
   ]
  },
  {
   "cell_type": "markdown",
   "metadata": {},
   "source": [
    "### BENCHMARKING"
   ]
  },
  {
   "cell_type": "markdown",
   "metadata": {},
   "source": [
    "#### Comparação entre algoritmos O (n²) e O (n log n)"
   ]
  },
  {
   "cell_type": "code",
   "execution_count": 33,
   "metadata": {},
   "outputs": [
    {
     "data": {
      "text/plain": [
       "[<matplotlib.lines.Line2D at 0x138b10198>]"
      ]
     },
     "execution_count": 33,
     "metadata": {},
     "output_type": "execute_result"
    },
    {
     "data": {
      "image/png": "[encoded data removed]",
      "text/plain": [
       "<Figure size 432x288 with 1 Axes>"
      ]
     },
     "metadata": {
      "needs_background": "light"
     },
     "output_type": "display_data"
    }
   ],
   "source": [
    "plt.plot(selection, linestyle='-', marker='o', color='blue')\n",
    "plt.plot(bubble, linestyle='-', marker='o',color='red')\n",
    "plt.plot(quick_vetorzin, linestyle='-', marker='o',color='purple')\n",
    "plt.plot(bucket_vetorzin_merge, linestyle='-', marker='o',color='black')\n",
    "plt.plot(bucket_vetorzin_quick, linestyle='-', marker='o',color='magenta')\n",
    "plt.plot(merge_vetorzin, linestyle='-', marker='o',color='cyan')"
   ]
  },
  {
   "cell_type": "markdown",
   "metadata": {},
   "source": [
    "#### Comparação entre Buckets\n"
   ]
  },
  {
   "cell_type": "code",
   "execution_count": 34,
   "metadata": {},
   "outputs": [
    {
     "data": {
      "text/plain": [
       "[<matplotlib.lines.Line2D at 0x138b3feb8>]"
      ]
     },
     "execution_count": 34,
     "metadata": {},
     "output_type": "execute_result"
    },
    {
     "data": {
      "image/png": "[encoded data removed]",
      "text/plain": [
       "<Figure size 432x288 with 1 Axes>"
      ]
     },
     "metadata": {
      "needs_background": "light"
     },
     "output_type": "display_data"
    }
   ],
   "source": [
    "plt.plot(bucket_total_quick, linestyle='-', marker='o',color='black')\n",
    "plt.plot(bucket_total_merge, linestyle='-', marker='o',color='magenta')"
   ]
  },
  {
   "cell_type": "markdown",
   "metadata": {},
   "source": [
    "#### Comparação entre algoritmos O (n log n)"
   ]
  },
  {
   "cell_type": "code",
   "execution_count": 35,
   "metadata": {},
   "outputs": [
    {
     "data": {
      "text/plain": [
       "[<matplotlib.lines.Line2D at 0x12ad39f98>]"
      ]
     },
     "execution_count": 35,
     "metadata": {},
     "output_type": "execute_result"
    },
    {
     "data": {
      "image/png": "[encoded data removed]",
      "text/plain": [
       "<Figure size 432x288 with 1 Axes>"
      ]
     },
     "metadata": {
      "needs_background": "light"
     },
     "output_type": "display_data"
    }
   ],
   "source": [
    "plt.plot(quick_total, linestyle='-', marker='o',color='purple')\n",
    "plt.plot(bucket_total_quick, linestyle='-', marker='o',color='black')\n",
    "plt.plot(bucket_total_merge, linestyle='-', marker='o',color='magenta')\n",
    "plt.plot(merge_total, linestyle='-', marker='o',color='cyan')"
   ]
  },
  {
   "cell_type": "markdown",
   "metadata": {},
   "source": [
    "#### Criando DataFrame com tempo dos vetores até 20K"
   ]
  },
  {
   "cell_type": "code",
   "execution_count": 36,
   "metadata": {},
   "outputs": [],
   "source": [
    "d = {'Selection':selection,'Bubble':bubble, 'Quick': quick_vetorzin, 'Merge':merge_vetorzin,'Bucket com Quick':bucket_vetorzin_quick,'Bucket com Merge':bucket_vetorzin_merge}"
   ]
  },
  {
   "cell_type": "code",
   "execution_count": 37,
   "metadata": {},
   "outputs": [],
   "source": [
    "df_menor = pd.DataFrame(d)"
   ]
  },
  {
   "cell_type": "code",
   "execution_count": 38,
   "metadata": {},
   "outputs": [
    {
     "data": {
      "text/html": [
       "<div>\n",
       "<style scoped>\n",
       "    .dataframe tbody tr th:only-of-type {\n",
       "        vertical-align: middle;\n",
       "    }\n",
       "\n",
       "    .dataframe tbody tr th {\n",
       "        vertical-align: top;\n",
       "    }\n",
       "\n",
       "    .dataframe thead th {\n",
       "        text-align: right;\n",
       "    }\n",
       "</style>\n",
       "<table border=\"1\" class=\"dataframe\">\n",
       "  <thead>\n",
       "    <tr style=\"text-align: right;\">\n",
       "      <th></th>\n",
       "      <th>Selection</th>\n",
       "      <th>Bubble</th>\n",
       "      <th>Quick</th>\n",
       "      <th>Merge</th>\n",
       "      <th>Bucket com Quick</th>\n",
       "      <th>Bucket com Merge</th>\n",
       "    </tr>\n",
       "  </thead>\n",
       "  <tbody>\n",
       "    <tr>\n",
       "      <th>0</th>\n",
       "      <td>2.898542</td>\n",
       "      <td>5.776414</td>\n",
       "      <td>0.021269</td>\n",
       "      <td>0.030334</td>\n",
       "      <td>0.010393</td>\n",
       "      <td>0.014864</td>\n",
       "    </tr>\n",
       "    <tr>\n",
       "      <th>1</th>\n",
       "      <td>13.073908</td>\n",
       "      <td>23.073510</td>\n",
       "      <td>0.044555</td>\n",
       "      <td>0.066274</td>\n",
       "      <td>0.021874</td>\n",
       "      <td>0.030513</td>\n",
       "    </tr>\n",
       "    <tr>\n",
       "      <th>2</th>\n",
       "      <td>19.343485</td>\n",
       "      <td>36.447187</td>\n",
       "      <td>0.059168</td>\n",
       "      <td>0.086597</td>\n",
       "      <td>0.026622</td>\n",
       "      <td>0.038584</td>\n",
       "    </tr>\n",
       "    <tr>\n",
       "      <th>3</th>\n",
       "      <td>26.493903</td>\n",
       "      <td>52.045222</td>\n",
       "      <td>0.069984</td>\n",
       "      <td>0.099416</td>\n",
       "      <td>0.037053</td>\n",
       "      <td>0.047960</td>\n",
       "    </tr>\n",
       "    <tr>\n",
       "      <th>4</th>\n",
       "      <td>35.922071</td>\n",
       "      <td>71.489101</td>\n",
       "      <td>0.082171</td>\n",
       "      <td>0.119630</td>\n",
       "      <td>0.044247</td>\n",
       "      <td>0.055251</td>\n",
       "    </tr>\n",
       "    <tr>\n",
       "      <th>5</th>\n",
       "      <td>48.552697</td>\n",
       "      <td>93.207214</td>\n",
       "      <td>0.112976</td>\n",
       "      <td>0.148697</td>\n",
       "      <td>0.060606</td>\n",
       "      <td>0.078544</td>\n",
       "    </tr>\n",
       "  </tbody>\n",
       "</table>\n",
       "</div>"
      ],
      "text/plain": [
       "   Selection     Bubble     Quick     Merge  Bucket com Quick  \\\n",
       "0   2.898542   5.776414  0.021269  0.030334          0.010393   \n",
       "1  13.073908  23.073510  0.044555  0.066274          0.021874   \n",
       "2  19.343485  36.447187  0.059168  0.086597          0.026622   \n",
       "3  26.493903  52.045222  0.069984  0.099416          0.037053   \n",
       "4  35.922071  71.489101  0.082171  0.119630          0.044247   \n",
       "5  48.552697  93.207214  0.112976  0.148697          0.060606   \n",
       "\n",
       "   Bucket com Merge  \n",
       "0          0.014864  \n",
       "1          0.030513  \n",
       "2          0.038584  \n",
       "3          0.047960  \n",
       "4          0.055251  \n",
       "5          0.078544  "
      ]
     },
     "execution_count": 38,
     "metadata": {},
     "output_type": "execute_result"
    }
   ],
   "source": [
    "df_menor"
   ]
  },
  {
   "cell_type": "markdown",
   "metadata": {},
   "source": [
    "#### Criando DataFrame com tempo dos vetores de 100K até 10M"
   ]
  },
  {
   "cell_type": "code",
   "execution_count": 39,
   "metadata": {},
   "outputs": [],
   "source": [
    "d = {'Quick':quick_vetorzao,'Merge': merge_vetorzao,'Bucket com Quick':bucket_vetorzao_quick,'Bucket com Merge':bucket_vetorzao_merge}"
   ]
  },
  {
   "cell_type": "code",
   "execution_count": 40,
   "metadata": {},
   "outputs": [],
   "source": [
    "df_maior = pd.DataFrame(d)"
   ]
  },
  {
   "cell_type": "code",
   "execution_count": 41,
   "metadata": {},
   "outputs": [
    {
     "data": {
      "text/html": [
       "<div>\n",
       "<style scoped>\n",
       "    .dataframe tbody tr th:only-of-type {\n",
       "        vertical-align: middle;\n",
       "    }\n",
       "\n",
       "    .dataframe tbody tr th {\n",
       "        vertical-align: top;\n",
       "    }\n",
       "\n",
       "    .dataframe thead th {\n",
       "        text-align: right;\n",
       "    }\n",
       "</style>\n",
       "<table border=\"1\" class=\"dataframe\">\n",
       "  <thead>\n",
       "    <tr style=\"text-align: right;\">\n",
       "      <th></th>\n",
       "      <th>Quick</th>\n",
       "      <th>Merge</th>\n",
       "      <th>Bucket com Quick</th>\n",
       "      <th>Bucket com Merge</th>\n",
       "    </tr>\n",
       "  </thead>\n",
       "  <tbody>\n",
       "    <tr>\n",
       "      <th>0</th>\n",
       "      <td>0.643463</td>\n",
       "      <td>0.770823</td>\n",
       "      <td>0.232236</td>\n",
       "      <td>0.339771</td>\n",
       "    </tr>\n",
       "    <tr>\n",
       "      <th>1</th>\n",
       "      <td>3.550822</td>\n",
       "      <td>4.409057</td>\n",
       "      <td>1.289913</td>\n",
       "      <td>1.830473</td>\n",
       "    </tr>\n",
       "    <tr>\n",
       "      <th>2</th>\n",
       "      <td>7.201253</td>\n",
       "      <td>9.592372</td>\n",
       "      <td>2.555013</td>\n",
       "      <td>3.791117</td>\n",
       "    </tr>\n",
       "    <tr>\n",
       "      <th>3</th>\n",
       "      <td>14.993882</td>\n",
       "      <td>20.197684</td>\n",
       "      <td>5.487164</td>\n",
       "      <td>7.837068</td>\n",
       "    </tr>\n",
       "    <tr>\n",
       "      <th>4</th>\n",
       "      <td>41.315796</td>\n",
       "      <td>51.785942</td>\n",
       "      <td>14.018503</td>\n",
       "      <td>20.552346</td>\n",
       "    </tr>\n",
       "    <tr>\n",
       "      <th>5</th>\n",
       "      <td>88.876976</td>\n",
       "      <td>108.932004</td>\n",
       "      <td>33.150691</td>\n",
       "      <td>42.154448</td>\n",
       "    </tr>\n",
       "  </tbody>\n",
       "</table>\n",
       "</div>"
      ],
      "text/plain": [
       "       Quick       Merge  Bucket com Quick  Bucket com Merge\n",
       "0   0.643463    0.770823          0.232236          0.339771\n",
       "1   3.550822    4.409057          1.289913          1.830473\n",
       "2   7.201253    9.592372          2.555013          3.791117\n",
       "3  14.993882   20.197684          5.487164          7.837068\n",
       "4  41.315796   51.785942         14.018503         20.552346\n",
       "5  88.876976  108.932004         33.150691         42.154448"
      ]
     },
     "execution_count": 41,
     "metadata": {},
     "output_type": "execute_result"
    }
   ],
   "source": [
    "df_maior"
   ]
  },
  {
   "cell_type": "markdown",
   "metadata": {},
   "source": [
    "#### Criando um DataFrame completo dos tempos"
   ]
  },
  {
   "cell_type": "code",
   "execution_count": null,
   "metadata": {},
   "outputs": [],
   "source": []
  }
 ],
 "metadata": {
  "kernelspec": {
   "display_name": "Python 3",
   "language": "python",
   "name": "python3"
  },
  "language_info": {
   "codemirror_mode": {
    "name": "ipython",
    "version": 3
   },
   "file_extension": ".py",
   "mimetype": "text/x-python",
   "name": "python",
   "nbconvert_exporter": "python",
   "pygments_lexer": "ipython3",
   "version": "3.7.3"
  }
 },
 "nbformat": 4,
 "nbformat_minor": 2
}
